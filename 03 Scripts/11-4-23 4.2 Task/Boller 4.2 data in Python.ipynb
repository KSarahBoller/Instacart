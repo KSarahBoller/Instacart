{
 "cells": [
  {
   "cell_type": "markdown",
   "id": "0045e1e4-5fa4-4d6b-b2eb-5776c5130513",
   "metadata": {},
   "source": [
    "##Importing libraries Task 4.2"
   ]
  },
  {
   "cell_type": "code",
   "execution_count": 1,
   "id": "2ca1e140-fca4-4e48-892b-0458fddc3b35",
   "metadata": {
    "tags": []
   },
   "outputs": [],
   "source": [
    "#import libraries\n",
    "import pandas as pd\n",
    "import numpy as np\n",
    "import os"
   ]
  },
  {
   "cell_type": "markdown",
   "id": "ecf3f624-db1a-47ca-8e5d-e2ed7f552414",
   "metadata": {},
   "source": [
    "#Working with Python Data"
   ]
  },
  {
   "cell_type": "code",
   "execution_count": 2,
   "id": "d73d1b97-ae11-42d1-97e0-74c8f880f594",
   "metadata": {
    "tags": []
   },
   "outputs": [],
   "source": [
    "x=99"
   ]
  },
  {
   "cell_type": "code",
   "execution_count": 3,
   "id": "07e65438-b25e-49fe-8529-1faa9e1a3444",
   "metadata": {
    "tags": []
   },
   "outputs": [],
   "source": [
    "y=1"
   ]
  },
  {
   "cell_type": "code",
   "execution_count": 4,
   "id": "e2f72886-ce97-4a3f-ad65-0982e920781f",
   "metadata": {
    "tags": []
   },
   "outputs": [
    {
     "name": "stdout",
     "output_type": "stream",
     "text": [
      "100\n"
     ]
    }
   ],
   "source": [
    "print(x+y)"
   ]
  },
  {
   "cell_type": "code",
   "execution_count": 5,
   "id": "91bca68d-0819-452d-ac77-364fc35b569a",
   "metadata": {
    "tags": []
   },
   "outputs": [
    {
     "data": {
      "text/plain": [
       "100"
      ]
     },
     "execution_count": 5,
     "metadata": {},
     "output_type": "execute_result"
    }
   ],
   "source": [
    "x+y"
   ]
  },
  {
   "cell_type": "code",
   "execution_count": 6,
   "id": "cb533040-33e0-4c13-9e7d-c8812b637da2",
   "metadata": {
    "tags": []
   },
   "outputs": [],
   "source": [
    "a=300"
   ]
  },
  {
   "cell_type": "code",
   "execution_count": 7,
   "id": "eddc49e8-a798-498e-b643-4140457e412c",
   "metadata": {
    "tags": []
   },
   "outputs": [],
   "source": [
    "b=200"
   ]
  },
  {
   "cell_type": "code",
   "execution_count": 8,
   "id": "b04eaffe-b209-4e13-9c02-9700f6073fa2",
   "metadata": {
    "tags": []
   },
   "outputs": [
    {
     "data": {
      "text/plain": [
       "100"
      ]
     },
     "execution_count": 8,
     "metadata": {},
     "output_type": "execute_result"
    }
   ],
   "source": [
    "a-b"
   ]
  },
  {
   "cell_type": "code",
   "execution_count": 9,
   "id": "4c64718a-d602-4a48-b498-e12cf2dc2c22",
   "metadata": {
    "tags": []
   },
   "outputs": [],
   "source": [
    "z=x+y"
   ]
  },
  {
   "cell_type": "code",
   "execution_count": 10,
   "id": "b5df48e8-cb50-4713-aa2f-c126c7e9f967",
   "metadata": {
    "tags": []
   },
   "outputs": [
    {
     "name": "stdout",
     "output_type": "stream",
     "text": [
      "100\n"
     ]
    }
   ],
   "source": [
    "print(z)"
   ]
  },
  {
   "cell_type": "code",
   "execution_count": 12,
   "id": "2da77926-b9ff-4b87-b337-1336af675e78",
   "metadata": {
    "tags": []
   },
   "outputs": [
    {
     "data": {
      "text/plain": [
       "100"
      ]
     },
     "execution_count": 12,
     "metadata": {},
     "output_type": "execute_result"
    }
   ],
   "source": [
    "b-z"
   ]
  },
  {
   "cell_type": "code",
   "execution_count": 13,
   "id": "0c25b398-d017-4aa3-9d15-55d0a7ed35e6",
   "metadata": {
    "tags": []
   },
   "outputs": [],
   "source": [
    "d=7.984"
   ]
  },
  {
   "cell_type": "code",
   "execution_count": 14,
   "id": "91cfde2b-5360-4991-a80a-4f6f5003d901",
   "metadata": {
    "tags": []
   },
   "outputs": [],
   "source": [
    "e=983.93"
   ]
  },
  {
   "cell_type": "code",
   "execution_count": 15,
   "id": "e6e2576a-b563-48ae-8d7b-40381f975ab8",
   "metadata": {
    "tags": []
   },
   "outputs": [
    {
     "data": {
      "text/plain": [
       "975.9459999999999"
      ]
     },
     "execution_count": 15,
     "metadata": {},
     "output_type": "execute_result"
    }
   ],
   "source": [
    "e-d"
   ]
  },
  {
   "cell_type": "code",
   "execution_count": 16,
   "id": "b2e27887-5db3-49b3-9467-589289cebb73",
   "metadata": {
    "tags": []
   },
   "outputs": [],
   "source": [
    "f=\"what\""
   ]
  },
  {
   "cell_type": "code",
   "execution_count": 17,
   "id": "dd4fab5c-294d-4791-9f54-f53b5df0ee3f",
   "metadata": {
    "tags": []
   },
   "outputs": [],
   "source": [
    "g=\"ever\""
   ]
  },
  {
   "cell_type": "code",
   "execution_count": 18,
   "id": "990f118a-8822-4cbf-8c7e-e372cb120a00",
   "metadata": {
    "tags": []
   },
   "outputs": [
    {
     "data": {
      "text/plain": [
       "'whatever'"
      ]
     },
     "execution_count": 18,
     "metadata": {},
     "output_type": "execute_result"
    }
   ],
   "source": [
    "f+g"
   ]
  },
  {
   "cell_type": "code",
   "execution_count": 23,
   "id": "1d97497f-e886-4240-8adf-ec86b357e83e",
   "metadata": {
    "tags": []
   },
   "outputs": [],
   "source": [
    "h=\"this \""
   ]
  },
  {
   "cell_type": "code",
   "execution_count": 21,
   "id": "05646404-9e8f-44e8-b288-9ba9251fae5d",
   "metadata": {
    "tags": []
   },
   "outputs": [],
   "source": [
    "i=\"is \""
   ]
  },
  {
   "cell_type": "code",
   "execution_count": 24,
   "id": "45615b7e-d1c4-44b1-adc4-7c42dd2f1845",
   "metadata": {
    "tags": []
   },
   "outputs": [],
   "source": [
    "j=\"dumb \""
   ]
  },
  {
   "cell_type": "code",
   "execution_count": 25,
   "id": "ae08836b-f305-453a-8f8b-94e77d02e776",
   "metadata": {
    "tags": []
   },
   "outputs": [
    {
     "data": {
      "text/plain": [
       "'this is dumb '"
      ]
     },
     "execution_count": 25,
     "metadata": {},
     "output_type": "execute_result"
    }
   ],
   "source": [
    "h+i+j"
   ]
  },
  {
   "cell_type": "code",
   "execution_count": 26,
   "id": "d3c47916-7f16-4596-98af-19a47db537a2",
   "metadata": {
    "tags": []
   },
   "outputs": [],
   "source": [
    "k=\"I \""
   ]
  },
  {
   "cell_type": "code",
   "execution_count": 27,
   "id": "d03da164-e360-48cd-a836-d8248da283e3",
   "metadata": {
    "tags": []
   },
   "outputs": [],
   "source": [
    "l=\"am \""
   ]
  },
  {
   "cell_type": "code",
   "execution_count": 28,
   "id": "ddccaae5-4156-4e59-a8e2-a3f4baa264ef",
   "metadata": {
    "tags": []
   },
   "outputs": [],
   "source": [
    "m=\"tired.\""
   ]
  },
  {
   "cell_type": "code",
   "execution_count": 29,
   "id": "3c01216b-4a6d-489c-8004-2388cac22760",
   "metadata": {
    "tags": []
   },
   "outputs": [
    {
     "data": {
      "text/plain": [
       "'I am tired.'"
      ]
     },
     "execution_count": 29,
     "metadata": {},
     "output_type": "execute_result"
    }
   ],
   "source": [
    "k+l+m"
   ]
  },
  {
   "cell_type": "code",
   "execution_count": 31,
   "id": "9bec0a13-0c13-482c-9096-f2525a06fda7",
   "metadata": {
    "tags": []
   },
   "outputs": [
    {
     "data": {
      "text/plain": [
       "'sleep sleep sleep sleep sleep sleep sleep sleep sleep sleep sleep sleep sleep sleep sleep sleep sleep sleep sleep sleep sleep sleep sleep sleep sleep sleep sleep sleep sleep sleep sleep sleep sleep sleep sleep sleep sleep sleep sleep sleep sleep sleep sleep sleep sleep sleep sleep sleep sleep sleep sleep sleep sleep sleep sleep sleep sleep sleep sleep sleep sleep sleep sleep sleep sleep sleep sleep sleep sleep sleep sleep sleep sleep sleep sleep sleep sleep sleep sleep sleep sleep sleep sleep sleep sleep sleep sleep sleep sleep sleep sleep sleep sleep sleep sleep sleep sleep sleep sleep sleep '"
      ]
     },
     "execution_count": 31,
     "metadata": {},
     "output_type": "execute_result"
    }
   ],
   "source": [
    "\"sleep \"*100"
   ]
  },
  {
   "cell_type": "code",
   "execution_count": null,
   "id": "d6abd8ad-7f0f-4aea-9f92-1fabfdebdb91",
   "metadata": {},
   "outputs": [],
   "source": []
  }
 ],
 "metadata": {
  "kernelspec": {
   "display_name": "Python 3 (ipykernel)",
   "language": "python",
   "name": "python3"
  },
  "language_info": {
   "codemirror_mode": {
    "name": "ipython",
    "version": 3
   },
   "file_extension": ".py",
   "mimetype": "text/x-python",
   "name": "python",
   "nbconvert_exporter": "python",
   "pygments_lexer": "ipython3",
   "version": "3.11.5"
  }
 },
 "nbformat": 4,
 "nbformat_minor": 5
}
