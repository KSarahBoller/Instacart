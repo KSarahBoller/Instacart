{
 "cells": [
  {
   "cell_type": "code",
   "execution_count": 1,
   "id": "8cdb7d2a-3a3a-441d-9869-3c6ba5cffc4b",
   "metadata": {},
   "outputs": [],
   "source": [
    "# Import Libraries\n",
    "import pandas as pd\n",
    "import numpy as np\n",
    "import os\n",
    "import matplotlib.pyplot as plt\n",
    "import seaborn as sns\n",
    "import scipy"
   ]
  },
  {
   "cell_type": "code",
   "execution_count": 2,
   "id": "a3bde21c-3f67-4eaa-9f68-2d905330f515",
   "metadata": {},
   "outputs": [],
   "source": [
    "# Import Customer Data\n",
    "df_cust= pd.read_csv(\"/Users/sarahboller/Desktop/CF 4 Instacart Basket Analysis/02 Data/Original Data/customers.csv\")"
   ]
  },
  {
   "cell_type": "code",
   "execution_count": 6,
   "id": "563e7b3d-3304-4246-9322-8714d75e6cc1",
   "metadata": {},
   "outputs": [],
   "source": [
    "df_all_merged= pd.read_pickle(\"/Users/sarahboller/Desktop/CF 4 Instacart Basket Analysis/02 Data/Prepared Data/df_merged_all.pkl\")"
   ]
  },
  {
   "cell_type": "code",
   "execution_count": 10,
   "id": "6c1089ef-bc42-47c1-9e78-cc2b129b33c8",
   "metadata": {},
   "outputs": [],
   "source": [
    "# Create crosstab\n",
    "crosstab = pd.crosstab(df_all_merged['days_since_prior_order'], df_all_merged['order_number'], dropna = False)"
   ]
  },
  {
   "cell_type": "code",
   "execution_count": 11,
   "id": "e49b5a8d-91b5-4f18-bf0f-9934ea08de4c",
   "metadata": {},
   "outputs": [],
   "source": [
    "crosstab.to_clipboard()"
   ]
  },
  {
   "cell_type": "code",
   "execution_count": null,
   "id": "17fbfa73-6a5a-4e54-a335-6c8796176013",
   "metadata": {},
   "outputs": [],
   "source": []
  }
 ],
 "metadata": {
  "kernelspec": {
   "display_name": "Python 3 (ipykernel)",
   "language": "python",
   "name": "python3"
  },
  "language_info": {
   "codemirror_mode": {
    "name": "ipython",
    "version": 3
   },
   "file_extension": ".py",
   "mimetype": "text/x-python",
   "name": "python",
   "nbconvert_exporter": "python",
   "pygments_lexer": "ipython3",
   "version": "3.11.5"
  }
 },
 "nbformat": 4,
 "nbformat_minor": 5
}
